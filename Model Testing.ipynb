{
 "cells": [
  {
   "cell_type": "code",
   "execution_count": 1,
   "id": "8c7f9cec-23ab-43c4-a355-f44d439eb23b",
   "metadata": {},
   "outputs": [],
   "source": [
    "import numpy as np\n",
    "import pickle\n",
    "import json\n",
    "import warnings\n",
    "warnings.filterwarnings('ignore')"
   ]
  },
  {
   "cell_type": "markdown",
   "id": "b8b4a3a2-ecf7-4812-b207-22c4a64f4ae2",
   "metadata": {},
   "source": [
    "### Load Model"
   ]
  },
  {
   "cell_type": "code",
   "execution_count": 2,
   "id": "14f829a3-2664-415b-92db-04a4ed9746e1",
   "metadata": {},
   "outputs": [],
   "source": [
    "with open(\"random_forest_model.pkl\", 'rb') as f:\n",
    "    model = pickle.load(f)\n",
    "\n",
    "with open(\"column_data.json\", 'r') as f:\n",
    "    col_data = json.load(f)"
   ]
  },
  {
   "cell_type": "code",
   "execution_count": 4,
   "id": "459cc258-5c6d-4a14-a3d6-1d5c2060e30e",
   "metadata": {},
   "outputs": [
    {
     "data": {
      "text/plain": [
       "array(['Type', 'Treatment', 'conc', 'Type', 'Treatment', 'conc',\n",
       "       'Plant_Mc2', 'Plant_Mc3', 'Plant_Mn1', 'Plant_Mn2', 'Plant_Mn3',\n",
       "       'Plant_Qc1', 'Plant_Qc2', 'Plant_Qc3', 'Plant_Qn1', 'Plant_Qn2',\n",
       "       'Plant_Qn3'], dtype=object)"
      ]
     },
     "execution_count": 4,
     "metadata": {},
     "output_type": "execute_result"
    }
   ],
   "source": [
    "col_names = model.feature_names_in_\n",
    "col_names"
   ]
  },
  {
   "cell_type": "markdown",
   "id": "429a7ffb-cbae-4a2d-a505-2f6cad0508f9",
   "metadata": {},
   "source": [
    "### User Data"
   ]
  },
  {
   "cell_type": "markdown",
   "id": "2264dc33-42e5-4874-9c24-bfd01ef5d6e0",
   "metadata": {},
   "source": [
    "age = 55 \n",
    "gender = 'female'\n",
    "bmi = 27.900\n",
    "children = 1\n",
    "smoker = 'no'\n",
    "region = 'northwest'\n",
    "\n",
    "# region = 'region_'+ region\n",
    "region_index = np.where(col_names == 'region_'+ region)[0][0]\n",
    "# print(\"region_index\",region_index)\n",
    "\n",
    "gender = col_data['gender'][gender]\n",
    "smoker = col_data['smoker'][smoker]\n",
    "\n",
    "test_array = np.zeros((1,model.n_features_in_))\n",
    "test_array[0,0] = age\n",
    "test_array[0,1] = gender\n",
    "test_array[0,2] = bmi\n",
    "test_array[0,3] = children\n",
    "test_array[0,4] = smoker\n",
    "test_array[0,region_index] = 1\n",
    "\n",
    "predicted_price = model.predict(test_array)[0]\n",
    "print(\"predicted_price :\",predicted_price)"
   ]
  },
  {
   "cell_type": "code",
   "execution_count": 18,
   "id": "5adb84b4-a366-41a4-a016-abc5a7f20c85",
   "metadata": {},
   "outputs": [
    {
     "name": "stdout",
     "output_type": "stream",
     "text": [
      "Predicted Emission: 16.0\n"
     ]
    }
   ],
   "source": [
    "import pandas as pd\n",
    "\n",
    "# Assuming col_data is a DataFrame containing the dataset\n",
    "col_data = pd.DataFrame({\n",
    "    'Plant': ['Qn1']*5 + ['Mc3']*5,\n",
    "    'Type': ['Quebec']*5 + ['Mississippi']*5,\n",
    "    'Treatment': ['nonchilled']*5 + ['chilled']*5,\n",
    "    'conc': [95, 175, 250, 350, 500]*2,\n",
    "    'uptake': [16.0, 30.4, 34.8, 37.2, 35.3, 17.9, 17.9, 17.9, 17.9, 17.9]\n",
    "})\n",
    "\n",
    "Type = 'Quebec'\n",
    "Treatment = 'nonchilled'\n",
    "conc = 95\n",
    "\n",
    "# Filter the DataFrame based on conditions\n",
    "subset = col_data[(col_data['Type'] == Type) & (col_data['Treatment'] == Treatment) & (col_data['conc'] == conc)]\n",
    "\n",
    "# Check if any rows match the conditions\n",
    "if not subset.empty:\n",
    "    # Assuming you want the first row, you can access the 'uptake' value\n",
    "    uptake_value = subset['uptake'].values[0]\n",
    "    print('Predicted Emission:', uptake_value)\n",
    "else:\n",
    "    print('No matching data found for the given conditions.')\n"
   ]
  },
  {
   "cell_type": "code",
   "execution_count": 19,
   "id": "4afdabd4-ef2e-4ef1-a5d2-6830928e1f6a",
   "metadata": {},
   "outputs": [
    {
     "ename": "AttributeError",
     "evalue": "module 'os' has no attribute 'get_cwd'",
     "output_type": "error",
     "traceback": [
      "\u001b[1;31m---------------------------------------------------------------------------\u001b[0m",
      "\u001b[1;31mAttributeError\u001b[0m                            Traceback (most recent call last)",
      "Cell \u001b[1;32mIn[19], line 2\u001b[0m\n\u001b[0;32m      1\u001b[0m \u001b[38;5;28;01mimport\u001b[39;00m \u001b[38;5;21;01mos\u001b[39;00m\n\u001b[1;32m----> 2\u001b[0m \u001b[43mos\u001b[49m\u001b[38;5;241;43m.\u001b[39;49m\u001b[43mget_cwd\u001b[49m()\n",
      "\u001b[1;31mAttributeError\u001b[0m: module 'os' has no attribute 'get_cwd'"
     ]
    }
   ],
   "source": [
    "import os\n",
    "os.get_cwd()"
   ]
  },
  {
   "cell_type": "code",
   "execution_count": null,
   "id": "a144c526-f78f-4a85-b552-9c812ffacb45",
   "metadata": {},
   "outputs": [],
   "source": []
  }
 ],
 "metadata": {
  "kernelspec": {
   "display_name": "Python 3 (ipykernel)",
   "language": "python",
   "name": "python3"
  },
  "language_info": {
   "codemirror_mode": {
    "name": "ipython",
    "version": 3
   },
   "file_extension": ".py",
   "mimetype": "text/x-python",
   "name": "python",
   "nbconvert_exporter": "python",
   "pygments_lexer": "ipython3",
   "version": "3.11.8"
  }
 },
 "nbformat": 4,
 "nbformat_minor": 5
}
